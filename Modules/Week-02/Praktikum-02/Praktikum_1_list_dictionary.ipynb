{
  "nbformat": 4,
  "nbformat_minor": 0,
  "metadata": {
    "colab": {
      "provenance": [],
      "authorship_tag": "ABX9TyOYvZoktd9EKeximY+I4FwW",
      "include_colab_link": true
    },
    "kernelspec": {
      "name": "python3",
      "display_name": "Python 3"
    },
    "language_info": {
      "name": "python"
    }
  },
  "cells": [
    {
      "cell_type": "markdown",
      "metadata": {
        "id": "view-in-github",
        "colab_type": "text"
      },
      "source": [
        "<a href=\"https://colab.research.google.com/github/pakizhan-ump/ml-umpontianak/blob/main/Modules/Week-02/Praktikum-02/Praktikum_1_list_dictionary.ipynb\" target=\"_parent\"><img src=\"https://colab.research.google.com/assets/colab-badge.svg\" alt=\"Open In Colab\"/></a>"
      ]
    },
    {
      "cell_type": "markdown",
      "source": [
        "# PRAKTIKUM 1: STRUKTUR DATA LIST DAN DICTIONARY PYTHON\n",
        "\n",
        "## Tujuan Praktikum\n",
        "1. Memahami konsep struktur data list dan dictionary dalam Python\n",
        "2. Mampu melakukan operasi dasar pada list dan dictionary\n",
        "3. Dapat menerapkan list comprehension dan dictionary comprehension\n",
        "4. Memahami penggunaan struktur data yang tepat untuk berbagai skenario\n",
        "\n",
        "## Dasar Teori\n",
        "\n",
        "### List\n",
        "List adalah struktur data yang ordered, mutable, dan dapat menampung elemen dengan tipe data yang berbeda. Karakteristik list:\n",
        "- Ordered: Elemen memiliki posisi/index tertentu\n",
        "- Mutable: Dapat diubah setelah dibuat\n",
        "- Dynamic: Dapat bertambah atau berkurang ukurannya\n",
        "- Heterogeneous: Dapat menampung berbagai tipe data\n",
        "\n",
        "### Dictionary\n",
        "Dictionary adalah struktur data yang unordered, mutable, dan menggunakan key-value pairs. Karakteristik dictionary:\n",
        "- Unordered: Tidak memiliki urutan tertentu (Python 3.7+ menjaga insertion order)\n",
        "- Mutable: Dapat diubah setelah dibuat\n",
        "- Key-Value pairs: Menggunakan key unik untuk mengakses value\n",
        "- Fast lookup: Akses data sangat cepat menggunakan key"
      ],
      "metadata": {
        "id": "B_-CutPf4i_r"
      }
    },
    {
      "cell_type": "markdown",
      "source": [
        "**1.1 LIST**"
      ],
      "metadata": {
        "id": "MxKskwUK5fAP"
      }
    },
    {
      "cell_type": "code",
      "execution_count": 4,
      "metadata": {
        "colab": {
          "base_uri": "https://localhost:8080/"
        },
        "id": "wvb3Pbme4bjD",
        "outputId": "67d90513-1ace-4e17-dbe3-a2cb1dd073bd"
      },
      "outputs": [
        {
          "output_type": "stream",
          "name": "stdout",
          "text": [
            "Access by index:\n",
            "numbers[0]: 10\n",
            "numbers[-1]: 50\n",
            "numbers[1:4]: [20, 30, 40]\n",
            "numbers[::2]: [10, 30, 50]\n",
            "After append(60): [10, 20, 30, 40, 50, 60]\n",
            "After insert(2, 25): [10, 20, 25, 30, 40, 50, 60]\n",
            "After extend: [10, 20, 25, 30, 40, 50, 60, 70, 80, 90]\n",
            "After pop(3): [10, 20, 25, 40, 50, 60, 70, 80, 90], removed: 30\n",
            "After remove(25): [10, 20, 40, 50, 60, 70, 80, 90]\n",
            "After del [0:2]: [40, 50, 60, 70, 80, 90]\n",
            "\n",
            "Looping techniques:\n",
            "For loop:\n",
            "Index 0: 40\n",
            "Index 1: 50\n",
            "Index 2: 60\n",
            "Index 3: 70\n",
            "Index 4: 80\n",
            "Index 5: 90\n",
            "List comprehension:\n",
            "Squares of numbers > 30: [1600, 2500, 3600, 4900, 6400, 8100]\n",
            "Sorted ascending: [1, 1, 2, 3, 4, 5, 6, 9]\n",
            "Sorted descending: [9, 6, 5, 4, 3, 2, 1, 1]\n",
            "Original: [1, 2, 3], Copy: [1, 2, 3]\n",
            "Length: 5\n",
            "Min: 10, Max: 50\n",
            "Sum: 150\n",
            "Mean: 30.00\n",
            "Combined lists: [1, 2, 3, 4, 5, 6]\n",
            "Type checking:\n",
            "1 is <class 'int'>\n",
            "hello is <class 'str'>\n",
            "3.14 is <class 'float'>\n",
            "True is <class 'bool'>\n"
          ]
        }
      ],
      "source": [
        "# 🔧 OPERASI FUNDAMENTAL LIST\n",
        "\n",
        "# 1. ACCESS\n",
        "numbers = [10, 20, 30, 40, 50]\n",
        "print(\"Access by index:\")\n",
        "print(\"numbers[0]:\", numbers[0])           # First element\n",
        "print(\"numbers[-1]:\", numbers[-1])         # Last element\n",
        "print(\"numbers[1:4]:\", numbers[1:4])       # Slicing\n",
        "print(\"numbers[::2]:\", numbers[::2])       # Step slicing\n",
        "\n",
        "# 2. ADD ELEMENTS\n",
        "numbers.append(60)                         # Add to end\n",
        "print(\"After append(60):\", numbers)\n",
        "\n",
        "numbers.insert(2, 25)                      # Insert at index\n",
        "print(\"After insert(2, 25):\", numbers)\n",
        "\n",
        "numbers.extend([70, 80, 90])               # Extend with another list\n",
        "print(\"After extend:\", numbers)\n",
        "\n",
        "# 3. REMOVE ELEMENTS\n",
        "removed = numbers.pop(3)                   # Remove by index\n",
        "print(f\"After pop(3): {numbers}, removed: {removed}\")\n",
        "\n",
        "numbers.remove(25)                         # Remove by value\n",
        "print(\"After remove(25):\", numbers)\n",
        "\n",
        "del numbers[0:2]                           # Delete slice\n",
        "print(\"After del [0:2]:\", numbers)\n",
        "\n",
        "# 4. LOOPING\n",
        "print(\"\\nLooping techniques:\")\n",
        "print(\"For loop:\")\n",
        "for i, num in enumerate(numbers):\n",
        "    print(f\"Index {i}: {num}\")\n",
        "\n",
        "print(\"List comprehension:\")\n",
        "squares = [x**2 for x in numbers if x > 30]\n",
        "print(\"Squares of numbers > 30:\", squares)\n",
        "\n",
        "# 5. SORTING\n",
        "random_nums = [3, 1, 4, 1, 5, 9, 2, 6]\n",
        "random_nums.sort()                         # In-place sort\n",
        "print(\"Sorted ascending:\", random_nums)\n",
        "\n",
        "random_nums.sort(reverse=True)             # Descending sort\n",
        "print(\"Sorted descending:\", random_nums)\n",
        "\n",
        "# 6. COPYING\n",
        "original = [1, 2, 3]\n",
        "shallow_copy = original.copy()             # Shallow copy\n",
        "deep_copy = original[:]                    # Another way to copy\n",
        "print(f\"Original: {original}, Copy: {shallow_copy}\")\n",
        "\n",
        "# 7. AGGREGATION\n",
        "data = [10, 20, 30, 40, 50]\n",
        "print(f\"Length: {len(data)}\")\n",
        "print(f\"Min: {min(data)}, Max: {max(data)}\")\n",
        "print(f\"Sum: {sum(data)}\")\n",
        "print(f\"Mean: {sum(data)/len(data):.2f}\")\n",
        "\n",
        "# 8. JOINING\n",
        "list1 = [1, 2, 3]\n",
        "list2 = [4, 5, 6]\n",
        "combined = list1 + list2                   # Concatenation\n",
        "print(\"Combined lists:\", combined)\n",
        "\n",
        "# 9. TYPE CHECKING\n",
        "mixed_list = [1, \"hello\", 3.14, True]\n",
        "print(\"Type checking:\")\n",
        "for item in mixed_list:\n",
        "    print(f\"{item} is {type(item)}\")"
      ]
    },
    {
      "cell_type": "markdown",
      "source": [
        "**1.2 Dictionary**"
      ],
      "metadata": {
        "id": "fNyWBtSv5nOB"
      }
    },
    {
      "cell_type": "code",
      "source": [
        "# 🔧 OPERASI FUNDAMENTAL DICTIONARY\n",
        "\n",
        "# 1. CREATE & ACCESS\n",
        "student = {\n",
        "    'name': 'Alice',\n",
        "    'age': 20,\n",
        "    'grades': [85, 90, 78],\n",
        "    'courses': {'math': 'A', 'physics': 'B'}\n",
        "}\n",
        "\n",
        "print(\"Access operations:\")\n",
        "print(\"student['name']:\", student['name'])\n",
        "print(\"student.get('age'):\", student.get('age'))\n",
        "print(\"student.get('address', 'Not found'):\", student.get('address', 'Not found'))\n",
        "\n",
        "# 2. ADD & UPDATE\n",
        "student['major'] = 'Computer Science'      # Add new key\n",
        "print(\"After adding major:\", student)\n",
        "\n",
        "student.update({'age': 21, 'year': 2})     # Update multiple\n",
        "print(\"After update:\", student)\n",
        "\n",
        "# 3. REMOVE\n",
        "removed_grade = student.pop('grades')      # Remove and return\n",
        "print(f\"Removed grades: {removed_grade}\")\n",
        "\n",
        "del student['courses']                     # Delete key\n",
        "print(\"After del courses:\", student)\n",
        "\n",
        "# 4. LOOPING\n",
        "print(\"\\nDictionary looping:\")\n",
        "print(\"Keys:\", list(student.keys()))\n",
        "print(\"Values:\", list(student.values()))\n",
        "print(\"Items:\", list(student.items()))\n",
        "\n",
        "print(\"Loop through items:\")\n",
        "for key, value in student.items():\n",
        "    print(f\"{key}: {value}\")\n",
        "\n",
        "# 5. COPYING\n",
        "student_copy = student.copy()              # Shallow copy\n",
        "print(\"Original:\", student)\n",
        "print(\"Copy:\", student_copy)\n",
        "\n",
        "# 6. COMPREHENSION\n",
        "numbers = [1, 2, 3, 4, 5]\n",
        "squares_dict = {x: x**2 for x in numbers}\n",
        "print(\"Dictionary comprehension:\", squares_dict)\n",
        "\n",
        "# 7. AGGREGATION\n",
        "grades_dict = {'math': 85, 'physics': 92, 'chemistry': 78}\n",
        "print(f\"Number of subjects: {len(grades_dict)}\")\n",
        "print(f\"Highest grade: {max(grades_dict.values())}\")\n",
        "print(f\"Lowest grade: {min(grades_dict.values())}\")\n",
        "print(f\"Average grade: {sum(grades_dict.values())/len(grades_dict):.2f}\")\n",
        "\n",
        "# 8. MERGING DICTIONARIES\n",
        "dict1 = {'a': 1, 'b': 2}\n",
        "dict2 = {'b': 3, 'c': 4}\n",
        "merged = {**dict1, **dict2}                # Merge (dict2 overwrites)\n",
        "print(\"Merged dictionaries:\", merged)\n",
        "\n",
        "# 9. NESTED DICTIONARY OPERATIONS\n",
        "school_data = {\n",
        "    'students': {\n",
        "        'Alice': {'age': 20, 'grade': 'A'},\n",
        "        'Bob': {'age': 21, 'grade': 'B'}\n",
        "    }\n",
        "}\n",
        "\n",
        "# Access nested data\n",
        "print(\"Alice's age:\", school_data['students']['Alice']['age'])\n",
        "\n",
        "# Modify nested data\n",
        "school_data['students']['Alice']['grade'] = 'A+'\n",
        "print(\"Updated Alice's grade:\", school_data['students']['Alice'])"
      ],
      "metadata": {
        "colab": {
          "base_uri": "https://localhost:8080/"
        },
        "id": "-20M7z6q45Q8",
        "outputId": "c68c8203-353e-4d7c-919d-62d417720d9e"
      },
      "execution_count": 5,
      "outputs": [
        {
          "output_type": "stream",
          "name": "stdout",
          "text": [
            "Access operations:\n",
            "student['name']: Alice\n",
            "student.get('age'): 20\n",
            "student.get('address', 'Not found'): Not found\n",
            "After adding major: {'name': 'Alice', 'age': 20, 'grades': [85, 90, 78], 'courses': {'math': 'A', 'physics': 'B'}, 'major': 'Computer Science'}\n",
            "After update: {'name': 'Alice', 'age': 21, 'grades': [85, 90, 78], 'courses': {'math': 'A', 'physics': 'B'}, 'major': 'Computer Science', 'year': 2}\n",
            "Removed grades: [85, 90, 78]\n",
            "After del courses: {'name': 'Alice', 'age': 21, 'major': 'Computer Science', 'year': 2}\n",
            "\n",
            "Dictionary looping:\n",
            "Keys: ['name', 'age', 'major', 'year']\n",
            "Values: ['Alice', 21, 'Computer Science', 2]\n",
            "Items: [('name', 'Alice'), ('age', 21), ('major', 'Computer Science'), ('year', 2)]\n",
            "Loop through items:\n",
            "name: Alice\n",
            "age: 21\n",
            "major: Computer Science\n",
            "year: 2\n",
            "Original: {'name': 'Alice', 'age': 21, 'major': 'Computer Science', 'year': 2}\n",
            "Copy: {'name': 'Alice', 'age': 21, 'major': 'Computer Science', 'year': 2}\n",
            "Dictionary comprehension: {1: 1, 2: 4, 3: 9, 4: 16, 5: 25}\n",
            "Number of subjects: 3\n",
            "Highest grade: 92\n",
            "Lowest grade: 78\n",
            "Average grade: 85.00\n",
            "Merged dictionaries: {'a': 1, 'b': 3, 'c': 4}\n",
            "Alice's age: 20\n",
            "Updated Alice's grade: {'age': 20, 'grade': 'A+'}\n"
          ]
        }
      ]
    },
    {
      "cell_type": "markdown",
      "source": [
        "**LATIHAN**"
      ],
      "metadata": {
        "id": "OsbDxW685XML"
      }
    },
    {
      "cell_type": "code",
      "source": [
        "# 🏋️ LATIHAN 1: OPERASI LIST DAN DICTIONARY\n",
        "\n",
        "### OPERASI LIST ###\n",
        "\n",
        "'''TODO: Manipulasi Data List untuk Preprocessing'''\n",
        "# Data mentah dari sensor\n",
        "raw_data = [23.5, 24.1, 22.8, 25.3, 21.9, 26.7, 20.5, 24.8, 23.2, 25.9]\n",
        "\n",
        "# TODO 1: Filter data yang berada di range 22-25 derajat\n",
        "filtered_data = # TODO\n",
        "\n",
        "# TODO 2: Normalisasi data ke range 0-1 menggunakan min-max scaling\n",
        "normalized_data = # TODO\n",
        "\n",
        "# TODO 3: Hitung moving average dengan window size 3\n",
        "def moving_average(data, window_size):\n",
        "    # TODO: Implementasi moving average\n",
        "    pass\n",
        "\n",
        "ma_result = moving_average(raw_data, 3)\n",
        "\n",
        "assert len(filtered_data) <= len(raw_data), \"Filtered data should not be longer\"\n",
        "assert all(0 <= x <= 1 for x in normalized_data), \"Normalized data should be 0-1\"\n",
        "print(\"✅ List operations completed\")\n",
        "\n",
        "### OPERASI DICTIONARY ###\n",
        "\n",
        "'''TODO: Processing Dataset untuk Machine Learning'''\n",
        "# Dataset sample untuk klasifikasi\n",
        "dataset = [\n",
        "    {'features': [1.2, 3.4, 2.1], 'label': 'class_A'},\n",
        "    {'features': [2.3, 1.5, 4.2], 'label': 'class_B'},\n",
        "    {'features': [3.1, 2.8, 1.9], 'label': 'class_A'},\n",
        "    {'features': [4.2, 3.9, 2.5], 'label': 'class_B'}\n",
        "]\n",
        "\n",
        "# TODO 4: Kelompokkan data berdasarkan label\n",
        "def group_by_label(data):\n",
        "    # TODO: Return dictionary dengan key: label, value: list of features\n",
        "    pass\n",
        "\n",
        "grouped_data = group_by_label(dataset)\n",
        "\n",
        "# TODO 5: Hitung rata-rata features per kelas\n",
        "def average_features_per_class(grouped_data):\n",
        "    # TODO: Hitung mean features untuk setiap kelas\n",
        "    pass\n",
        "\n",
        "avg_features = average_features_per_class(grouped_data)\n",
        "\n",
        "assert 'class_A' in grouped_data, \"Should contain class_A\"\n",
        "assert 'class_B' in grouped_data, \"Should contain class_B\"\n",
        "print(\"✅ Dictionary operations completed\")"
      ],
      "metadata": {
        "colab": {
          "base_uri": "https://localhost:8080/",
          "height": 106
        },
        "id": "JxtKyaYK5aS4",
        "outputId": "899a23b6-9615-44e4-86ad-3122c0dee390"
      },
      "execution_count": 6,
      "outputs": [
        {
          "output_type": "error",
          "ename": "SyntaxError",
          "evalue": "invalid syntax (ipython-input-3414621789.py, line 10)",
          "traceback": [
            "\u001b[0;36m  File \u001b[0;32m\"/tmp/ipython-input-3414621789.py\"\u001b[0;36m, line \u001b[0;32m10\u001b[0m\n\u001b[0;31m    filtered_data = # TODO\u001b[0m\n\u001b[0m                    ^\u001b[0m\n\u001b[0;31mSyntaxError\u001b[0m\u001b[0;31m:\u001b[0m invalid syntax\n"
          ]
        }
      ]
    }
  ]
}