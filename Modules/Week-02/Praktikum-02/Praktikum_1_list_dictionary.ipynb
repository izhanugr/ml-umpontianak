{
  "nbformat": 4,
  "nbformat_minor": 0,
  "metadata": {
    "colab": {
      "provenance": [],
      "authorship_tag": "ABX9TyM8TVsTr089y8C4FZseBT4S",
      "include_colab_link": true
    },
    "kernelspec": {
      "name": "python3",
      "display_name": "Python 3"
    },
    "language_info": {
      "name": "python"
    }
  },
  "cells": [
    {
      "cell_type": "markdown",
      "metadata": {
        "id": "view-in-github",
        "colab_type": "text"
      },
      "source": [
        "<a href=\"https://colab.research.google.com/github/pakizhan-ump/ml-umpontianak/blob/main/Modules/Week-02/Praktikum-02/Praktikum_1_list_dictionary.ipynb\" target=\"_parent\"><img src=\"https://colab.research.google.com/assets/colab-badge.svg\" alt=\"Open In Colab\"/></a>"
      ]
    },
    {
      "cell_type": "markdown",
      "source": [
        "# PRAKTIKUM 1: STRUKTUR DATA LIST DAN DICTIONARY PYTHON\n",
        "\n",
        "## Tujuan Praktikum\n",
        "1. Memahami konsep struktur data list dan dictionary dalam Python\n",
        "2. Mampu melakukan operasi dasar pada list dan dictionary\n",
        "3. Dapat menerapkan list comprehension dan dictionary comprehension\n",
        "4. Memahami penggunaan struktur data yang tepat untuk berbagai skenario\n",
        "\n",
        "## Dasar Teori\n",
        "\n",
        "### List\n",
        "List adalah struktur data yang ordered, mutable, dan dapat menampung elemen dengan tipe data yang berbeda. Karakteristik list:\n",
        "- Ordered: Elemen memiliki posisi/index tertentu\n",
        "- Mutable: Dapat diubah setelah dibuat\n",
        "- Dynamic: Dapat bertambah atau berkurang ukurannya\n",
        "- Heterogeneous: Dapat menampung berbagai tipe data\n",
        "\n",
        "### Dictionary\n",
        "Dictionary adalah struktur data yang unordered, mutable, dan menggunakan key-value pairs. Karakteristik dictionary:\n",
        "- Unordered: Tidak memiliki urutan tertentu (Python 3.7+ menjaga insertion order)\n",
        "- Mutable: Dapat diubah setelah dibuat\n",
        "- Key-Value pairs: Menggunakan key unik untuk mengakses value\n",
        "- Fast lookup: Akses data sangat cepat menggunakan key"
      ],
      "metadata": {
        "id": "B_-CutPf4i_r"
      }
    },
    {
      "cell_type": "markdown",
      "source": [
        "**1.1 LIST**"
      ],
      "metadata": {
        "id": "MxKskwUK5fAP"
      }
    },
    {
      "cell_type": "code",
      "execution_count": 1,
      "metadata": {
        "colab": {
          "base_uri": "https://localhost:8080/"
        },
        "id": "wvb3Pbme4bjD",
        "outputId": "a997137c-a875-498a-e66f-0c4ec26f0d91"
      },
      "outputs": [
        {
          "output_type": "stream",
          "name": "stdout",
          "text": [
            "=== IMPLEMENTASI LIST ===\n",
            "\n",
            "Contoh list: [1, 2, 3, 4, 5]\n",
            "List campuran: [1, 'hello', 3.14, True]\n",
            "List bersarang: [[1, 2], [3, 4], [5, 6]]\n",
            "\n",
            "=== OPERASI DASAR LIST ===\n",
            "Elemen pertama: 1\n",
            "Elemen terakhir: 5\n",
            "Slice [1:3]: [2, 3]\n",
            "Setelah append: [1, 2, 3, 4, 5, 6]\n",
            "Setelah insert: [1, 2, 99, 3, 4, 5, 6]\n",
            "Setelah remove: [1, 2, 3, 4, 5, 6]\n"
          ]
        }
      ],
      "source": [
        "# 1.1 Implementasi List\n",
        "print(\"=== IMPLEMENTASI LIST ===\\n\")\n",
        "\n",
        "# Membuat list\n",
        "list_kosong = []\n",
        "list_angka = [1, 2, 3, 4, 5]\n",
        "list_campuran = [1, \"hello\", 3.14, True]\n",
        "list_bersarang = [[1, 2], [3, 4], [5, 6]]\n",
        "\n",
        "print(\"Contoh list:\", list_angka)\n",
        "print(\"List campuran:\", list_campuran)\n",
        "print(\"List bersarang:\", list_bersarang)\n",
        "\n",
        "# Operasi dasar list\n",
        "print(\"\\n=== OPERASI DASAR LIST ===\")\n",
        "# Akses elemen\n",
        "print(\"Elemen pertama:\", list_angka[0])\n",
        "print(\"Elemen terakhir:\", list_angka[-1])\n",
        "print(\"Slice [1:3]:\", list_angka[1:3])\n",
        "\n",
        "# Modifikasi list\n",
        "list_angka.append(6)\n",
        "print(\"Setelah append:\", list_angka)\n",
        "\n",
        "list_angka.insert(2, 99)\n",
        "print(\"Setelah insert:\", list_angka)\n",
        "\n",
        "list_angka.remove(99)\n",
        "print(\"Setelah remove:\", list_angka)"
      ]
    },
    {
      "cell_type": "markdown",
      "source": [
        "**1.2 Dictionary**"
      ],
      "metadata": {
        "id": "fNyWBtSv5nOB"
      }
    },
    {
      "cell_type": "code",
      "source": [
        "# 1.2 Implementasi Dictionary\n",
        "print(\"\\n=== IMPLEMENTASI DICTIONARY ===\")\n",
        "\n",
        "# Membuat dictionary\n",
        "dict_kosong = {}\n",
        "dict_siswa = {\n",
        "    'nama': 'Alice',\n",
        "    'usia': 20,\n",
        "    'jurusan': 'Informatika',\n",
        "    'ipk': 3.75\n",
        "}\n",
        "dict_bersarang = {\n",
        "    'mahasiswa1': {'nama': 'Bob', 'nilai': 85},\n",
        "    'mahasiswa2': {'nama': 'Charlie', 'nilai': 92}\n",
        "}\n",
        "\n",
        "print(\"Dictionary siswa:\", dict_siswa)\n",
        "print(\"Dictionary bersarang:\", dict_bersarang)\n",
        "\n",
        "# Operasi dictionary\n",
        "print(\"\\n=== OPERASI DICTIONARY ===\")\n",
        "print(\"Nama siswa:\", dict_siswa['nama'])\n",
        "print(\"Keys:\", dict_siswa.keys())\n",
        "print(\"Values:\", dict_siswa.values())\n",
        "\n",
        "# Modifikasi dictionary\n",
        "dict_siswa['semester'] = 5\n",
        "print(\"Setelah tambah semester:\", dict_siswa)\n",
        "\n",
        "dict_siswa.update({'usia': 21, 'hobi': 'membaca'})\n",
        "print(\"Setelah update:\", dict_siswa)"
      ],
      "metadata": {
        "colab": {
          "base_uri": "https://localhost:8080/"
        },
        "id": "-20M7z6q45Q8",
        "outputId": "92a100d6-37da-43a6-ea03-7c4f7d6c8585"
      },
      "execution_count": 2,
      "outputs": [
        {
          "output_type": "stream",
          "name": "stdout",
          "text": [
            "\n",
            "=== IMPLEMENTASI DICTIONARY ===\n",
            "Dictionary siswa: {'nama': 'Alice', 'usia': 20, 'jurusan': 'Informatika', 'ipk': 3.75}\n",
            "Dictionary bersarang: {'mahasiswa1': {'nama': 'Bob', 'nilai': 85}, 'mahasiswa2': {'nama': 'Charlie', 'nilai': 92}}\n",
            "\n",
            "=== OPERASI DICTIONARY ===\n",
            "Nama siswa: Alice\n",
            "Keys: dict_keys(['nama', 'usia', 'jurusan', 'ipk'])\n",
            "Values: dict_values(['Alice', 20, 'Informatika', 3.75])\n",
            "Setelah tambah semester: {'nama': 'Alice', 'usia': 20, 'jurusan': 'Informatika', 'ipk': 3.75, 'semester': 5}\n",
            "Setelah update: {'nama': 'Alice', 'usia': 21, 'jurusan': 'Informatika', 'ipk': 3.75, 'semester': 5, 'hobi': 'membaca'}\n"
          ]
        }
      ]
    },
    {
      "cell_type": "markdown",
      "source": [
        "**LATIHAN**"
      ],
      "metadata": {
        "id": "OsbDxW685XML"
      }
    },
    {
      "cell_type": "code",
      "source": [
        "# 🏋️ LATIHAN 1: LIST DAN DICTIONARY\n",
        "\n",
        "### Membuat dan Memanipulasi List ###\n",
        "\n",
        "'''TODO: Buat list berisi 10 bilangan acak antara 1-100'''\n",
        "random_list = # TODO\n",
        "\n",
        "assert len(random_list) == 10, \"List harus berisi 10 angka\"\n",
        "assert all(1 <= x <= 100 for x in random_list), \"Semua angka harus antara 1-100\"\n",
        "\n",
        "'''TODO: Hitung statistik dari list'''\n",
        "# Hitung rata-rata, nilai maksimum, dan minimum\n",
        "mean_value = # TODO\n",
        "max_value = # TODO\n",
        "min_value = # TODO\n",
        "\n",
        "print(f\"Rata-rata: {mean_value}, Maksimum: {max_value}, Minimum: {min_value}\")\n",
        "\n",
        "'''TODO: Buat list baru berisi kuadrat dari bilangan genap saja'''\n",
        "kuadrat_genap = # TODO\n",
        "\n",
        "### Bekerja dengan Dictionary ###\n",
        "\n",
        "'''TODO: Buat dictionary data mahasiswa'''\n",
        "data_mahasiswa = # TODO\n",
        "# Buat dictionary dengan keys: nama, usia, nilai (list 5 angka), jurusan\n",
        "\n",
        "assert 'nama' in data_mahasiswa, \"Dictionary harus mengandung key 'nama'\"\n",
        "assert 'nilai' in data_mahasiswa, \"Dictionary harus mengandung key 'nilai'\"\n",
        "assert len(data_mahasiswa['nilai']) == 5, \"Nilai harus berisi 5 angka\"\n",
        "\n",
        "'''TODO: Hitung rata-rata nilai'''\n",
        "rata_rata_nilai = # TODO\n",
        "\n",
        "'''TODO: Tambahkan key-value pair status'''\n",
        "# Tambahkan key 'status' dengan value 'Aktif' jika rata_rata_nilai >= 75, else 'Coba Lagi'\n",
        "# TODO\n",
        "\n",
        "print(f\"Status mahasiswa: {data_mahasiswa['status']}\")\n",
        "\n",
        "'''TODO: Buat fungsi untuk mencari mahasiswa dengan nilai tertinggi'''\n",
        "def cari_nilai_tertinggi(daftar_mahasiswa):\n",
        "    \"\"\"\n",
        "    Parameter: daftar_mahasiswa (list of dictionaries)\n",
        "    Return: dictionary mahasiswa dengan nilai rata-rata tertinggi\n",
        "    \"\"\"\n",
        "    # TODO: Implementasi fungsi\n",
        "    pass\n",
        "\n",
        "# Testing fungsi\n",
        "mahasiswa1 = {'nama': 'Alice', 'nilai': [80, 85, 90, 75, 88]}\n",
        "mahasiswa2 = {'nama': 'Bob', 'nilai': [70, 65, 80, 75, 72]}\n",
        "mahasiswa3 = {'nama': 'Charlie', 'nilai': [90, 92, 88, 95, 91]}\n",
        "\n",
        "daftar = [mahasiswa1, mahasiswa2, mahasiswa3]\n",
        "tertinggi = cari_nilai_tertinggi(daftar)\n",
        "print(f\"Mahasiswa dengan nilai tertinggi: {tertinggi['nama']}\")"
      ],
      "metadata": {
        "id": "JxtKyaYK5aS4"
      },
      "execution_count": null,
      "outputs": []
    }
  ]
}