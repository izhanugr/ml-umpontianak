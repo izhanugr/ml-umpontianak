{
 "cells": [
  {
   "cell_type": "markdown",
   "id": "c9b76169",
   "metadata": {},
   "source": [
    "# 📘 Minggu 2: Data Structures & Visualization\n",
    "Hands-on di Google Colab + Latihan + Jawaban\n"
   ]
  },
  {
   "cell_type": "code",
   "execution_count": null,
   "id": "7ed48940",
   "metadata": {},
   "outputs": [],
   "source": [
    "\n",
    "!pip install seaborn torch\n",
    "\n",
    "import numpy as np\n",
    "import pandas as pd\n",
    "import torch\n",
    "import seaborn as sns\n",
    "import matplotlib.pyplot as plt\n"
   ]
  },
  {
   "cell_type": "markdown",
   "id": "1d258f7a",
   "metadata": {},
   "source": [
    "## 1. Python List"
   ]
  },
  {
   "cell_type": "code",
   "execution_count": null,
   "id": "2e9a1ea4",
   "metadata": {},
   "outputs": [],
   "source": [
    "\n",
    "buah = [\"apel\", \"jeruk\", \"mangga\", \"pisang\"]\n",
    "\n",
    "print(\"Isi list:\", buah)\n",
    "print(\"Ambil elemen ke-2:\", buah[1])\n",
    "print(\"Jumlah elemen:\", len(buah))\n"
   ]
  },
  {
   "cell_type": "markdown",
   "id": "d2902905",
   "metadata": {},
   "source": [
    "### 📝 Latihan List"
   ]
  },
  {
   "cell_type": "code",
   "execution_count": null,
   "id": "3496e72c",
   "metadata": {},
   "outputs": [],
   "source": [
    "\n",
    "# 1. Buatlah list berisi 5 angka\n",
    "# 2. Cetak elemen pertama dan terakhir\n",
    "# 3. Tambahkan angka baru ke dalam list\n",
    "# 4. Hitung jumlah elemen list\n",
    "\n",
    "# Tulis jawabanmu di sini:\n"
   ]
  },
  {
   "cell_type": "markdown",
   "id": "9be8802d",
   "metadata": {},
   "source": [
    "## 2. NumPy Array"
   ]
  },
  {
   "cell_type": "code",
   "execution_count": null,
   "id": "f5534e1d",
   "metadata": {},
   "outputs": [],
   "source": [
    "\n",
    "arr = np.array([1, 2, 3, 4, 5])\n",
    "print(\"Array:\", arr)\n",
    "print(\"Tambah 10:\", arr + 10)\n"
   ]
  },
  {
   "cell_type": "markdown",
   "id": "5c880e57",
   "metadata": {},
   "source": [
    "### 📝 Latihan NumPy"
   ]
  },
  {
   "cell_type": "code",
   "execution_count": null,
   "id": "47a2fa5c",
   "metadata": {},
   "outputs": [],
   "source": [
    "\n",
    "# 1. Buat array numpy berisi angka 0 sampai 8\n",
    "# 2. Ubah bentuknya menjadi matriks 3x3\n",
    "# 3. Kalikan semua elemen dengan 2\n",
    "# 4. Hitung rata-rata nilai array\n",
    "\n",
    "# Tulis jawabanmu di sini:\n"
   ]
  },
  {
   "cell_type": "markdown",
   "id": "aa49deba",
   "metadata": {},
   "source": [
    "## 3. Pandas DataFrame"
   ]
  },
  {
   "cell_type": "code",
   "execution_count": null,
   "id": "34c39348",
   "metadata": {},
   "outputs": [],
   "source": [
    "\n",
    "data = {\n",
    "    \"Nama\": [\"Andi\", \"Budi\", \"Citra\", \"Dewi\"],\n",
    "    \"Umur\": [23, 25, 21, 22],\n",
    "    \"Nilai\": [85, 90, 88, 95]\n",
    "}\n",
    "df = pd.DataFrame(data)\n",
    "print(df)\n"
   ]
  },
  {
   "cell_type": "markdown",
   "id": "ed0387de",
   "metadata": {},
   "source": [
    "### 📝 Latihan Pandas"
   ]
  },
  {
   "cell_type": "code",
   "execution_count": null,
   "id": "76fb96ac",
   "metadata": {},
   "outputs": [],
   "source": [
    "\n",
    "# 1. Buat DataFrame sederhana dengan kolom: Produk, Harga, Stok\n",
    "# 2. Tampilkan hanya kolom \"Harga\"\n",
    "# 3. Hitung nilai rata-rata kolom Harga\n",
    "# 4. Tambahkan kolom baru \"Total\" = Harga * Stok\n",
    "\n",
    "# Tulis jawabanmu di sini:\n"
   ]
  },
  {
   "cell_type": "markdown",
   "id": "b7b5284e",
   "metadata": {},
   "source": [
    "## 4. PyTorch Tensor"
   ]
  },
  {
   "cell_type": "code",
   "execution_count": null,
   "id": "58c57ee7",
   "metadata": {},
   "outputs": [],
   "source": [
    "\n",
    "t = torch.tensor([1, 2, 3, 4, 5])\n",
    "print(\"Tensor:\", t)\n",
    "print(\"Tambah 10:\", t + 10)\n"
   ]
  },
  {
   "cell_type": "markdown",
   "id": "2e660552",
   "metadata": {},
   "source": [
    "### 📝 Latihan Tensor"
   ]
  },
  {
   "cell_type": "code",
   "execution_count": null,
   "id": "17b531ce",
   "metadata": {},
   "outputs": [],
   "source": [
    "\n",
    "# 1. Buat tensor 2D berukuran 2x3\n",
    "# 2. Hitung jumlah (sum) semua elemennya\n",
    "# 3. Kalikan tensor tersebut dengan 3\n",
    "# 4. Konversi tensor ke numpy array\n",
    "\n",
    "# Tulis jawabanmu di sini:\n"
   ]
  },
  {
   "cell_type": "markdown",
   "id": "87c8c9fa",
   "metadata": {},
   "source": [
    "## 5. Visualisasi Data"
   ]
  },
  {
   "cell_type": "code",
   "execution_count": null,
   "id": "dde035e7",
   "metadata": {},
   "outputs": [],
   "source": [
    "\n",
    "df_tips = sns.load_dataset(\"tips\")\n",
    "print(df_tips.head())\n",
    "\n",
    "# Scatterplot\n",
    "sns.scatterplot(data=df_tips, x=\"total_bill\", y=\"tip\", hue=\"sex\")\n",
    "plt.title(\"Scatterplot: Total Bill vs Tip\")\n",
    "plt.show()\n"
   ]
  },
  {
   "cell_type": "markdown",
   "id": "b3ea0946",
   "metadata": {},
   "source": [
    "### 📝 Latihan Visualisasi"
   ]
  },
  {
   "cell_type": "code",
   "execution_count": null,
   "id": "d9f4e3a6",
   "metadata": {},
   "outputs": [],
   "source": [
    "\n",
    "# 1. Buat histogram dari kolom \"total_bill\"\n",
    "# 2. Buat boxplot kolom \"tip\" berdasarkan \"day\"\n",
    "# 3. Buat barplot rata-rata \"tip\" berdasarkan \"smoker\" (Yes/No)\n",
    "\n",
    "# Tulis jawabanmu di sini:\n"
   ]
  },
  {
   "cell_type": "markdown",
   "id": "e023561d",
   "metadata": {},
   "source": [
    "# ✅ Kunci Jawaban Latihan\n",
    "(*Jangan lihat sebelum mencoba!*)"
   ]
  },
  {
   "cell_type": "markdown",
   "id": "8a88debd",
   "metadata": {},
   "source": [
    "### 1. List"
   ]
  },
  {
   "cell_type": "code",
   "execution_count": null,
   "id": "abaa691a",
   "metadata": {},
   "outputs": [],
   "source": [
    "\n",
    "angka = [10, 20, 30, 40, 50]\n",
    "print(\"Elemen pertama:\", angka[0])\n",
    "print(\"Elemen terakhir:\", angka[-1])\n",
    "\n",
    "angka.append(60)\n",
    "print(\"List setelah append:\", angka)\n",
    "\n",
    "print(\"Jumlah elemen:\", len(angka))\n"
   ]
  },
  {
   "cell_type": "markdown",
   "id": "78556d96",
   "metadata": {},
   "source": [
    "### 2. NumPy"
   ]
  },
  {
   "cell_type": "code",
   "execution_count": null,
   "id": "8cc0fd48",
   "metadata": {},
   "outputs": [],
   "source": [
    "\n",
    "arr = np.arange(9)            # 0 sampai 8\n",
    "matriks = arr.reshape(3, 3)   # reshape ke 3x3\n",
    "print(\"Matriks:\\n\", matriks)\n",
    "\n",
    "print(\"Kalikan 2:\\n\", matriks * 2)\n",
    "\n",
    "print(\"Rata-rata:\", matriks.mean())\n"
   ]
  },
  {
   "cell_type": "markdown",
   "id": "2cdc3654",
   "metadata": {},
   "source": [
    "### 3. Pandas"
   ]
  },
  {
   "cell_type": "code",
   "execution_count": null,
   "id": "8af8b79b",
   "metadata": {},
   "outputs": [],
   "source": [
    "\n",
    "data = {\n",
    "    \"Produk\": [\"A\", \"B\", \"C\"],\n",
    "    \"Harga\": [10000, 15000, 20000],\n",
    "    \"Stok\": [5, 3, 8]\n",
    "}\n",
    "df_produk = pd.DataFrame(data)\n",
    "print(df_produk)\n",
    "\n",
    "print(\"Kolom Harga:\\n\", df_produk[\"Harga\"])\n",
    "\n",
    "print(\"Rata-rata harga:\", df_produk[\"Harga\"].mean())\n",
    "\n",
    "df_produk[\"Total\"] = df_produk[\"Harga\"] * df_produk[\"Stok\"]\n",
    "print(\"Dengan kolom Total:\\n\", df_produk)\n"
   ]
  },
  {
   "cell_type": "markdown",
   "id": "0a92d3a6",
   "metadata": {},
   "source": [
    "### 4. Tensor"
   ]
  },
  {
   "cell_type": "code",
   "execution_count": null,
   "id": "a65fd319",
   "metadata": {},
   "outputs": [],
   "source": [
    "\n",
    "t = torch.tensor([[1,2,3],[4,5,6]])\n",
    "print(\"Tensor 2D:\\n\", t)\n",
    "\n",
    "print(\"Jumlah semua elemen:\", t.sum())\n",
    "\n",
    "print(\"Kalikan dengan 3:\\n\", t * 3)\n",
    "\n",
    "np_arr = t.numpy()\n",
    "print(\"Kembali jadi numpy:\\n\", np_arr)\n"
   ]
  },
  {
   "cell_type": "markdown",
   "id": "b5b97a3f",
   "metadata": {},
   "source": [
    "### 5. Visualisasi"
   ]
  },
  {
   "cell_type": "code",
   "execution_count": null,
   "id": "ed9da900",
   "metadata": {},
   "outputs": [],
   "source": [
    "\n",
    "# Histogram total_bill\n",
    "plt.hist(df_tips[\"total_bill\"], bins=20)\n",
    "plt.title(\"Histogram Total Bill\")\n",
    "plt.xlabel(\"Total Bill\")\n",
    "plt.ylabel(\"Frekuensi\")\n",
    "plt.show()\n",
    "\n",
    "# Boxplot tip per day\n",
    "sns.boxplot(data=df_tips, x=\"day\", y=\"tip\")\n",
    "plt.title(\"Boxplot Tip per Day\")\n",
    "plt.show()\n",
    "\n",
    "# Barplot rata-rata tip per smoker\n",
    "sns.barplot(data=df_tips, x=\"smoker\", y=\"tip\", estimator=np.mean)\n",
    "plt.title(\"Rata-rata Tip per Smoker\")\n",
    "plt.show()\n"
   ]
  }
 ],
 "metadata": {},
 "nbformat": 4,
 "nbformat_minor": 5
}
